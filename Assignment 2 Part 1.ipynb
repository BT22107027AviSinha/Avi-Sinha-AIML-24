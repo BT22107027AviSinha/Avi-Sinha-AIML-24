{
  "cells": [
    {
      "cell_type": "code",
      "execution_count": 34,
      "id": "d4f7a328-d405-4e51-bcd0-d35188f72677",
      "metadata": {
        "trusted": true
      },
      "outputs": [],
      "source": [
        "import numpy as np\n",
        "\n",
        "import pandas as pd\n",
        "\n",
        "from numpy.random import randn\n",
        "\n",
        "np.random.seed(101)\n"
      ]
    },
    {
      "cell_type": "code",
      "execution_count": 35,
      "id": "90a0f4e8-9cd8-4f3d-ab57-840881a09921",
      "metadata": {
        "trusted": true
      },
      "outputs": [
        {
          "name": "stdout",
          "output_type": "stream",
          "text": [
            "[5, 5, 5, 5, 5, 5, 5, 5, 5, 5]\n"
          ]
        }
      ],
      "source": [
        "Array = [5]*10\n",
        "print(Array)"
      ]
    },
    {
      "cell_type": "code",
      "execution_count": 36,
      "id": "694befb9-36e5-4f90-8cf2-60d425bfe3b3",
      "metadata": {
        "trusted": true
      },
      "outputs": [
        {
          "name": "stdout",
          "output_type": "stream",
          "text": [
            "[5. 5. 5. 5. 5. 5. 5. 5. 5. 5.]\n"
          ]
        }
      ],
      "source": [
        "import numpy as np\n",
        "\n",
        "array_of_fives = 5 * np.ones(10)\n",
        "print(array_of_fives)\n"
      ]
    },
    {
      "cell_type": "code",
      "execution_count": 36,
      "id": "e90ca305-e977-46ad-9233-afa4db246964",
      "metadata": {
        "trusted": true
      },
      "outputs": [
        {
          "name": "stdout",
          "output_type": "stream",
          "text": [
            "[5. 5. 5. 5. 5. 5. 5. 5. 5. 5.]\n"
          ]
        }
      ],
      "source": [
        "import numpy as np\n",
        "\n",
        "array_of_fives = 5 * np.ones(10)\n",
        "print(array_of_fives)\n"
      ]
    },
    {
      "cell_type": "code",
      "execution_count": 37,
      "id": "88ef1913-3d3c-4861-90c0-100645243dbe",
      "metadata": {
        "trusted": true
      },
      "outputs": [
        {
          "name": "stdout",
          "output_type": "stream",
          "text": [
            "[10 11 12 13 14 15 16 17 18 19 20 21 22 23 24 25 26 27 28 29 30 31 32 33\n",
            " 34 35 36 37 38 39 40 41 42 43 44 45 46 47 48 49 50]\n"
          ]
        }
      ],
      "source": [
        "import numpy as np\n",
        "\n",
        "Array = np.arange(10,51)\n",
        "\n",
        "print(Array)"
      ]
    },
    {
      "cell_type": "code",
      "execution_count": 38,
      "id": "75e00212-6fa8-4b5e-bb09-e2724fdef141",
      "metadata": {
        "trusted": true
      },
      "outputs": [
        {
          "name": "stdout",
          "output_type": "stream",
          "text": [
            "[10 12 14 16 18 20 22 24 26 28 30 32 34 36 38 40 42 44 46 48 50]\n"
          ]
        }
      ],
      "source": [
        "import numpy as np\n",
        "\n",
        "Array = np.arange(10,51,2)\n",
        "\n",
        "print(Array)"
      ]
    },
    {
      "cell_type": "code",
      "execution_count": 39,
      "id": "a18fe137-309e-4dc7-adb2-043f3b9ea368",
      "metadata": {
        "trusted": true
      },
      "outputs": [
        {
          "name": "stdout",
          "output_type": "stream",
          "text": [
            "[[0 1 2]\n",
            " [3 4 5]\n",
            " [6 7 8]]\n"
          ]
        }
      ],
      "source": [
        "import numpy as np\n",
        "\n",
        "Array = np.arange(0,9).reshape(3,3)\n",
        "\n",
        "print(Array)"
      ]
    },
    {
      "cell_type": "code",
      "execution_count": 1,
      "id": "be0235b6-503f-42ab-870e-2cac58a35399",
      "metadata": {
        "trusted": true
      },
      "outputs": [
        {
          "name": "stdout",
          "output_type": "stream",
          "text": [
            "[[-1.22675971 -0.91317379 -0.31179394 -0.08332619  0.1452406 ]\n",
            " [ 0.77005011  0.15358306  0.42796677  1.45519273  0.02970825]\n",
            " [ 0.58337736 -0.01304531 -0.27332788  1.34790766 -0.08793584]\n",
            " [ 0.35272235  0.48660302 -1.92683921 -1.08175616 -0.22037008]\n",
            " [-1.11635095  0.40711382 -0.45545271  0.93658824  0.30446874]]\n"
          ]
        }
      ],
      "source": [
        "import numpy as np\n",
        "\n",
        "Array = np.random.standard_normal(25).reshape(5,5)\n",
        "\n",
        "print(Array)"
      ]
    },
    {
      "cell_type": "code",
      "execution_count": 21,
      "id": "bc0cb6de-f9cc-4c0e-b67f-9f36a026c114",
      "metadata": {
        "trusted": true
      },
      "outputs": [
        {
          "name": "stdout",
          "output_type": "stream",
          "text": [
            "[0.   0.01 0.02 0.03 0.04 0.05 0.06 0.07 0.08 0.09 0.1  0.11 0.12 0.13\n",
            " 0.14 0.15 0.16 0.17 0.18 0.19 0.2  0.21 0.22 0.23 0.24 0.25 0.26 0.27\n",
            " 0.28 0.29 0.3  0.31 0.32 0.33 0.34 0.35 0.36 0.37 0.38 0.39 0.4  0.41\n",
            " 0.42 0.43 0.44 0.45 0.46 0.47 0.48 0.49 0.5  0.51 0.52 0.53 0.54 0.55\n",
            " 0.56 0.57 0.58 0.59 0.6  0.61 0.62 0.63 0.64 0.65 0.66 0.67 0.68 0.69\n",
            " 0.7  0.71 0.72 0.73 0.74 0.75 0.76 0.77 0.78 0.79 0.8  0.81 0.82 0.83\n",
            " 0.84 0.85 0.86 0.87 0.88 0.89 0.9  0.91 0.92 0.93 0.94 0.95 0.96 0.97\n",
            " 0.98 0.99 1.  ]\n"
          ]
        }
      ],
      "source": [
        "import numpy as np\n",
        "\n",
        "Array = np.arange(0,1.01, 0.01)\n",
        "\n",
        "print(Array)"
      ]
    },
    {
      "cell_type": "code",
      "execution_count": 22,
      "id": "45a4c94b-ddd7-4784-b2db-4e085f205065",
      "metadata": {
        "trusted": true
      },
      "outputs": [
        {
          "name": "stdout",
          "output_type": "stream",
          "text": [
            "[0.   0.05 0.1  0.15 0.2  0.25 0.3  0.35 0.4  0.45 0.5  0.55 0.6  0.65\n",
            " 0.7  0.75 0.8  0.85 0.9  0.95]\n"
          ]
        }
      ],
      "source": [
        "import numpy as np\n",
        "\n",
        "Array = np.arange(0,1,0.05)\n",
        "\n",
        "print(Array)"
      ]
    },
    {
      "cell_type": "code",
      "execution_count": null,
      "id": "5404c501-9a8b-4d17-a2b5-d12b68c8a4f2",
      "metadata": {
        "trusted": true
      },
      "outputs": [],
      "source": [
        "import numpy as np\n",
        "\n",
        "Array = np.arange(1,26).reshape(5,5)\n",
        "print(Array)\n",
        "print()\n",
        "slice1 = Array[:3,1:2]\n",
        "\n",
        "slice2 = Array[2:5,1:5]\n",
        "\n",
        "print(slice2)\n",
        "print()\n",
        "print(slice1)\n",
        "print()\n",
        "\n",
        "\n",
        "tsum = np.sum(Array)\n",
        "\n",
        "rowssum = np.sum(Array, axis = 0)\n",
        "\n",
        "columnssum = np.sum(Array, axis = 1)\n",
        "\n",
        "print(tsum)\n",
        "print()\n",
        "print(rowssum)\n",
        "print()\n",
        "print(columnssum)"
      ]
    },
    {
      "cell_type": "code",
      "execution_count": null,
      "id": "705957a1-d0e9-43c9-b5ce-4beb99d2404a",
      "metadata": {
        "trusted": true
      },
      "outputs": [],
      "source": []
    }
  ],
  "metadata": {
    "kernelspec": {
      "display_name": "Python (Pyodide)",
      "language": "python",
      "name": "python"
    },
    "language_info": {
      "codemirror_mode": {
        "name": "python",
        "version": 3
      },
      "file_extension": ".py",
      "mimetype": "text/x-python",
      "name": "python",
      "nbconvert_exporter": "python",
      "pygments_lexer": "ipython3",
      "version": "3.8"
    }
  },
  "nbformat": 4,
  "nbformat_minor": 5
}
